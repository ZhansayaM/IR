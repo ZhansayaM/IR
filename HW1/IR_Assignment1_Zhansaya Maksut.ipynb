{
 "cells": [
  {
   "cell_type": "code",
   "execution_count": 60,
   "id": "international-cylinder",
   "metadata": {
    "scrolled": true
   },
   "outputs": [],
   "source": [
    "import pandas as pd\n",
    "import matplotlib.pyplot as plt\n",
    "import numpy as np\n",
    "import math"
   ]
  },
  {
   "cell_type": "code",
   "execution_count": 61,
   "id": "acute-brain",
   "metadata": {},
   "outputs": [
    {
     "data": {
      "text/html": [
       "<div>\n",
       "<style scoped>\n",
       "    .dataframe tbody tr th:only-of-type {\n",
       "        vertical-align: middle;\n",
       "    }\n",
       "\n",
       "    .dataframe tbody tr th {\n",
       "        vertical-align: top;\n",
       "    }\n",
       "\n",
       "    .dataframe thead th {\n",
       "        text-align: right;\n",
       "    }\n",
       "</style>\n",
       "<table border=\"1\" class=\"dataframe\">\n",
       "  <thead>\n",
       "    <tr style=\"text-align: right;\">\n",
       "      <th></th>\n",
       "      <th>id_right</th>\n",
       "      <th>text_right</th>\n",
       "    </tr>\n",
       "  </thead>\n",
       "  <tbody>\n",
       "    <tr>\n",
       "      <th>0</th>\n",
       "      <td>1781133</td>\n",
       "      <td>it was used in landing craft during world war ...</td>\n",
       "    </tr>\n",
       "    <tr>\n",
       "      <th>1</th>\n",
       "      <td>2426736</td>\n",
       "      <td>after rejecting an offer from cambridge univer...</td>\n",
       "    </tr>\n",
       "    <tr>\n",
       "      <th>2</th>\n",
       "      <td>2224122</td>\n",
       "      <td>mat zan coached kuala lumpur fa in 1999 and wo...</td>\n",
       "    </tr>\n",
       "    <tr>\n",
       "      <th>3</th>\n",
       "      <td>219642</td>\n",
       "      <td>a barcode is a machine readable optical label ...</td>\n",
       "    </tr>\n",
       "    <tr>\n",
       "      <th>4</th>\n",
       "      <td>1728654</td>\n",
       "      <td>since the subordination of the monarchy under ...</td>\n",
       "    </tr>\n",
       "    <tr>\n",
       "      <th>...</th>\n",
       "      <td>...</td>\n",
       "      <td>...</td>\n",
       "    </tr>\n",
       "    <tr>\n",
       "      <th>369716</th>\n",
       "      <td>59396</td>\n",
       "      <td>the population was 416 at the 2010 census the ...</td>\n",
       "    </tr>\n",
       "    <tr>\n",
       "      <th>369717</th>\n",
       "      <td>1950034</td>\n",
       "      <td>the surface of the river is frozen from novemb...</td>\n",
       "    </tr>\n",
       "    <tr>\n",
       "      <th>369718</th>\n",
       "      <td>1984468</td>\n",
       "      <td>the first anti thrombin aptamer tba was genera...</td>\n",
       "    </tr>\n",
       "    <tr>\n",
       "      <th>369719</th>\n",
       "      <td>33966</td>\n",
       "      <td>state of oklahoma as of the 2010 census the po...</td>\n",
       "    </tr>\n",
       "    <tr>\n",
       "      <th>369720</th>\n",
       "      <td>1230943</td>\n",
       "      <td>geetha jeevan born 6 may 1970 is the current m...</td>\n",
       "    </tr>\n",
       "  </tbody>\n",
       "</table>\n",
       "<p>369721 rows × 2 columns</p>\n",
       "</div>"
      ],
      "text/plain": [
       "        id_right                                         text_right\n",
       "0        1781133  it was used in landing craft during world war ...\n",
       "1        2426736  after rejecting an offer from cambridge univer...\n",
       "2        2224122  mat zan coached kuala lumpur fa in 1999 and wo...\n",
       "3         219642  a barcode is a machine readable optical label ...\n",
       "4        1728654  since the subordination of the monarchy under ...\n",
       "...          ...                                                ...\n",
       "369716     59396  the population was 416 at the 2010 census the ...\n",
       "369717   1950034  the surface of the river is frozen from novemb...\n",
       "369718   1984468  the first anti thrombin aptamer tba was genera...\n",
       "369719     33966  state of oklahoma as of the 2010 census the po...\n",
       "369720   1230943  geetha jeevan born 6 may 1970 is the current m...\n",
       "\n",
       "[369721 rows x 2 columns]"
      ]
     },
     "execution_count": 61,
     "metadata": {},
     "output_type": "execute_result"
    }
   ],
   "source": [
    "df = pd.read_csv('documents.csv')\n",
    "df"
   ]
  },
  {
   "cell_type": "code",
   "execution_count": 62,
   "id": "incident-integer",
   "metadata": {},
   "outputs": [
    {
     "name": "stdout",
     "output_type": "stream",
     "text": [
      "Number of documents:  369721\n",
      "Average document length in words:  197.69969517555128\n",
      "Collection size in words:  73093729\n",
      "Number of unique words:  373080\n",
      "Average word length:  4.795127048450353\n",
      "Average unique word length:  8.05060576819985\n"
     ]
    }
   ],
   "source": [
    "lst = {}\n",
    "word_count = []\n",
    "word_len = []\n",
    "num = len(df)\n",
    "\n",
    "for index, row in df.iterrows():\n",
    "    words = row['text_right'].split()\n",
    "    word_count.append(len(words))\n",
    "    for i in words:\n",
    "        word_len.append(len(i))\n",
    "        if i not in lst:\n",
    "            lst[i] = 1\n",
    "        else:\n",
    "            lst[i] = lst[i] + 1\n",
    "\n",
    "num_unique = 0\n",
    "unique_len = []\n",
    "unique_words = []\n",
    "unique_in_doc = []\n",
    "\n",
    "for index, row in df.iterrows():\n",
    "    words = row['text_right'].split()\n",
    "    count = 0\n",
    "    for i in words:\n",
    "        if lst[i] == 1:\n",
    "            count += 1\n",
    "            unique_words.append(i)\n",
    "            num_unique += 1\n",
    "            unique_len.append(len(i))\n",
    "    unique_in_doc.append(count)\n",
    "\n",
    "print('Number of documents: ', num)\n",
    "print('Average document length in words: ', sum(word_count) / len(word_count))\n",
    "print('Collection size in words: ', sum(word_count))\n",
    "print('Number of unique words: ', num_unique)\n",
    "print('Average word length: ', sum(word_len) / len(word_len))\n",
    "print('Average unique word length: ', sum(unique_len) / len(unique_len))"
   ]
  },
  {
   "cell_type": "code",
   "execution_count": 63,
   "id": "unexpected-georgia",
   "metadata": {},
   "outputs": [
    {
     "name": "stdout",
     "output_type": "stream",
     "text": [
      "There are no words positioning at the same place from the top-30 words\n"
     ]
    }
   ],
   "source": [
    "new_lst = sorted(lst.items(), key=lambda x:x[1], reverse=True)\n",
    "new_lst1 = new_lst[:30]\n",
    "NLTK_words = ['i', 'me', 'my', 'myself', 'we', 'our', 'ours', 'ourselves', 'you', 'your', 'yours', 'yourself', 'yourselves', 'he', 'him', 'his', 'himself', 'she', 'her', 'hers', 'herself', 'it', 'its', 'itself', 'they', 'them', 'their', 'theirs', 'themselves', 'what']\n",
    "count = 0\n",
    "for i in range(30):\n",
    "    if new_lst1[i][0] == NLTK_words[i]:\n",
    "        count += 1\n",
    "        print(new_lst1[i][0])\n",
    "if count == 0:\n",
    "    print('There are no words positioning at the same place from the top-30 words')"
   ]
  },
  {
   "cell_type": "code",
   "execution_count": 64,
   "id": "neutral-merchant",
   "metadata": {
    "scrolled": false
   },
   "outputs": [
    {
     "data": {
      "image/png": "[encoded data removed]",
      "text/plain": [
       "<Figure size 576x576 with 1 Axes>"
      ]
     },
     "metadata": {
      "needs_background": "light"
     },
     "output_type": "display_data"
    }
   ],
   "source": [
    "cf = []\n",
    "rank = []\n",
    "\n",
    "for i in range(len(new_lst)):\n",
    "    cf.append(lst[new_lst[i][0]])\n",
    "    rank.append(i + 1)\n",
    "\n",
    "zipf = [math.log10(cf[0] / i) for i in rank]\n",
    "rank = [math.log10(x) for x in rank]\n",
    "cf = [math.log10(x) for x in cf]\n",
    "\n",
    "fig = plt.figure(figsize=(8,8))\n",
    "line1, = plt.plot(rank, cf, 'r')\n",
    "line2, = plt.plot(rank, zipf, 'g')\n",
    "plt.title('Ranks & collection frequencies in log-log coordinates')\n",
    "plt.xlabel('log10rank')\n",
    "plt.ylabel('log10cf')\n",
    "plt.grid()\n",
    "plt.show()"
   ]
  },
  {
   "cell_type": "code",
   "execution_count": 66,
   "id": "satisfied-produce",
   "metadata": {
    "scrolled": false
   },
   "outputs": [
    {
     "data": {
      "image/png": "[encoded data removed]",
      "text/plain": [
       "<Figure size 576x576 with 1 Axes>"
      ]
     },
     "metadata": {
      "needs_background": "light"
     },
     "output_type": "display_data"
    }
   ],
   "source": [
    "M = [unique_in_doc[0]]\n",
    "\n",
    "for i in range(1, len(unique_in_doc)):\n",
    "    M.append(unique_in_doc[i] + M[i-1])\n",
    "\n",
    "for i in range(1, len(word_count)):\n",
    "    word_count[i] += word_count[i-1]\n",
    "\n",
    "word_count = [math.log10(x) for x in word_count]\n",
    "M = [math.log10(x) for x in M]\n",
    "\n",
    "mean_x = np.mean(word_count)\n",
    "mean_y = np.mean(M)\n",
    "numer = 0\n",
    "denum = 0\n",
    "for i in range(len(word_count)):\n",
    "    numer += (word_count[i] - mean_x) * (M[i] - mean_y)\n",
    "    denum += (word_count[i] - mean_x) ** 2\n",
    "m = numer / denum\n",
    "c = mean_y - (m * mean_x)\n",
    "\n",
    "logM = [ m * x + c for x in word_count]\n",
    "\n",
    "fig = plt.figure(figsize=(8,8))\n",
    "line1, = plt.plot(word_count, M, 'r')\n",
    "line2, = plt.plot(word_count, logM, 'b')\n",
    "plt.title(\"Heap's Law\")\n",
    "plt.xlabel('log10T')\n",
    "plt.ylabel('log10M')\n",
    "plt.grid()\n",
    "plt.show()"
   ]
  },
  {
   "cell_type": "code",
   "execution_count": null,
   "id": "plain-iraqi",
   "metadata": {},
   "outputs": [],
   "source": []
  }
 ],
 "metadata": {
  "kernelspec": {
   "display_name": "Python 3",
   "language": "python",
   "name": "python3"
  },
  "language_info": {
   "codemirror_mode": {
    "name": "ipython",
    "version": 3
   },
   "file_extension": ".py",
   "mimetype": "text/x-python",
   "name": "python",
   "nbconvert_exporter": "python",
   "pygments_lexer": "ipython3",
   "version": "3.9.12"
  }
 },
 "nbformat": 4,
 "nbformat_minor": 5
}
